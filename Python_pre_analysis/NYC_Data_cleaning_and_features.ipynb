{
 "cells": [
  {
   "cell_type": "code",
   "execution_count": 1,
   "metadata": {},
   "outputs": [],
   "source": [
    "import pyodbc\n",
    "import pandas as pd\n",
    "import numpy as np\n",
    "from datetime import datetime\n",
    "import calendar\n",
    "from datetime import timedelta\n",
    "import datetime as dt\n"
   ]
  },
  {
   "cell_type": "code",
   "execution_count": 2,
   "metadata": {},
   "outputs": [],
   "source": [
    "# sql query\n",
    "query_str='''\n",
    "select passenger_count \n",
    "      ,pickup_datetime  \n",
    "      ,pickup_longitude\n",
    "      ,pickup_latitude\n",
    "      ,dropoff_longitude\n",
    "      ,dropoff_latitude\n",
    "      ,fare_amount \n",
    "      from [dbo].[nyctaxi_sample]\n",
    "'''\n",
    "servername = 'LNOR010941'\n",
    "db = 'NYCTaxi_Sample'\n",
    "conn_str = 'Driver=SQL Server;Server=' + servername + \\\n",
    "    ';Database=' + db + ';Trusted_Connection=True;'\n",
    "cnxn = pyodbc.connect(conn_str)\n",
    "#cursor = cnxn.cursor()\n",
    "\n",
    "# Load query into dataframe\n",
    "df=pd.read_sql(query_str,cnxn)"
   ]
  },
  {
   "cell_type": "code",
   "execution_count": 3,
   "metadata": {},
   "outputs": [],
   "source": [
    "df=df.loc[df['fare_amount']>=0]\n",
    "df['dropoff_latitude_n']=pd.to_numeric(df['dropoff_latitude'])\n",
    "df['dropoff_longitude_n']=pd.to_numeric(df['dropoff_longitude'])\n",
    "df['pickup_latitude_n']=pd.to_numeric(df['pickup_latitude'])\n",
    "df['pickup_longitude_n']=pd.to_numeric(df['pickup_longitude'])\n",
    "df=df.drop(columns=['dropoff_latitude','dropoff_longitude','pickup_latitude','pickup_longitude'])"
   ]
  },
  {
   "cell_type": "code",
   "execution_count": 4,
   "metadata": {},
   "outputs": [
    {
     "name": "stdout",
     "output_type": "stream",
     "text": [
      "Outlier vs Non Outlier Counts\n",
      "0.0    1698334\n",
      "1.0       5603\n",
      "Name: is_outlier_loc, dtype: int64\n"
     ]
    }
   ],
   "source": [
    "boundary={'min_lng':-74.263242,\n",
    "              'min_lat':40.573143,\n",
    "              'max_lng':-72.986532, \n",
    "              'max_lat':41.709555}\n",
    "\n",
    "#We will mark the outlier locations as 1 and remove them for further analysi\n",
    "df.loc[~((df.pickup_longitude_n >= boundary['min_lng'] ) & (df.pickup_longitude_n <= boundary['max_lng']) &\n",
    "            (df.pickup_latitude_n >= boundary['min_lat']) & (df.pickup_latitude_n <= boundary['max_lat']) &\n",
    "            (df.dropoff_longitude_n >= boundary['min_lng']) & (df.dropoff_longitude_n <= boundary['max_lng']) &\n",
    "            (df.dropoff_latitude_n >=boundary['min_lat']) & (df.dropoff_latitude_n <= boundary['max_lat'])),'is_outlier_loc']=1\n",
    "df.loc[((df.pickup_longitude_n >= boundary['min_lng'] ) & (df.pickup_longitude_n <= boundary['max_lng']) &\n",
    "            (df.pickup_latitude_n >= boundary['min_lat']) & (df.pickup_latitude_n <= boundary['max_lat']) &\n",
    "            (df.dropoff_longitude_n >= boundary['min_lng']) & (df.dropoff_longitude_n <= boundary['max_lng']) &\n",
    "            (df.dropoff_latitude_n >=boundary['min_lat']) & (df.dropoff_latitude_n <= boundary['max_lat'])),'is_outlier_loc']=0\n",
    "\n",
    "print(\"Outlier vs Non Outlier Counts\")\n",
    "print(df['is_outlier_loc'].value_counts())\n",
    "\n",
    "# Let us drop rows, where location is outlier\n",
    "df=df.loc[df['is_outlier_loc']==0]\n",
    "df.drop(['is_outlier_loc'],axis=1,inplace=True)"
   ]
  },
  {
   "cell_type": "code",
   "execution_count": 5,
   "metadata": {},
   "outputs": [],
   "source": [
    "city_long_border = (-74.03, -73.75)\n",
    "city_lat_border = (40.63, 40.85)\n",
    "\n",
    "nyc_airports={'JFK':{'min_lng':-73.8352,\n",
    "     'min_lat':40.6195,\n",
    "     'max_lng':-73.7401, \n",
    "     'max_lat':40.6659},\n",
    "              \n",
    "    'EWR':{'min_lng':-74.1925,\n",
    "            'min_lat':40.6700, \n",
    "            'max_lng':-74.1531, \n",
    "            'max_lat':40.7081\n",
    "\n",
    "        },\n",
    "    'LaGuardia':{'min_lng':-73.8895, \n",
    "                  'min_lat':40.7664, \n",
    "                  'max_lng':-73.8550, \n",
    "                  'max_lat':40.7931\n",
    "        \n",
    "    }\n",
    "\n",
    "}\n",
    "def isAirport(latitude,longitude,airport_name='JFK'):\n",
    "    \n",
    "    if latitude>=nyc_airports[airport_name]['min_lat'] and latitude<=nyc_airports[airport_name]['max_lat'] and longitude>=nyc_airports[airport_name]['min_lng'] and longitude<=nyc_airports[airport_name]['max_lng']:\n",
    "        return 1\n",
    "    else:\n",
    "        return 0"
   ]
  },
  {
   "cell_type": "code",
   "execution_count": 6,
   "metadata": {},
   "outputs": [],
   "source": [
    "def coordinates2distance(lat1,lat2,long1,long2):\n",
    "    R=6373.0 #radius of earth in km\n",
    "    p = 0.017453292519943295 # Pi/180 to convert to radians\n",
    "    lat1=lat1*p\n",
    "    lat2=lat2*p\n",
    "    long1=long1*p\n",
    "    long2=long2*p\n",
    "    dlon=(long2-long1)\n",
    "    dlat=(lat2-lat1)\n",
    "    a=(np.sin(dlat/2)**2)+(np.cos(lat1)*np.cos(lat2)*np.sin(dlon/2)**2)\n",
    "    c=2*np.arctan2(np.sqrt(a),np.sqrt(1-a))\n",
    "    return R*c"
   ]
  },
  {
   "cell_type": "code",
   "execution_count": 7,
   "metadata": {},
   "outputs": [],
   "source": [
    "df['distance']=coordinates2distance(df['pickup_latitude_n'].values,\n",
    "                                    df['dropoff_latitude_n'].values,\n",
    "                                    df['pickup_longitude_n'].values,\n",
    "                                    df['dropoff_longitude_n'].values)"
   ]
  },
  {
   "cell_type": "code",
   "execution_count": 8,
   "metadata": {},
   "outputs": [],
   "source": [
    "nyc_boroughs={\n",
    "    'manhattan':{\n",
    "        'min_lng':-74.0479,\n",
    "        'min_lat':40.6829,\n",
    "        'max_lng':-73.9067,\n",
    "        'max_lat':40.8820\n",
    "    },\n",
    "    \n",
    "    'queens':{\n",
    "        'min_lng':-73.9630,\n",
    "        'min_lat':40.5431,\n",
    "        'max_lng':-73.7004,\n",
    "        'max_lat':40.8007\n",
    "\n",
    "    },\n",
    "\n",
    "    'brooklyn':{\n",
    "        'min_lng':-74.0421,\n",
    "        'min_lat':40.5707,\n",
    "        'max_lng':-73.8334,\n",
    "        'max_lat':40.7395\n",
    "\n",
    "    },\n",
    "\n",
    "    'bronx':{\n",
    "        'min_lng':-73.9339,\n",
    "        'min_lat':40.7855,\n",
    "        'max_lng':-73.7654,\n",
    "        'max_lat':40.9176\n",
    "\n",
    "    },\n",
    "\n",
    "    'staten_island':{\n",
    "        'min_lng':-74.2558,\n",
    "        'min_lat':40.4960,\n",
    "        'max_lng':-74.0522,\n",
    "        'max_lat':40.6490\n",
    "\n",
    "    }\n",
    "    \n",
    "    \n",
    "    \n",
    "}"
   ]
  },
  {
   "cell_type": "code",
   "execution_count": 9,
   "metadata": {},
   "outputs": [],
   "source": [
    "def getBorough(lat,lng):\n",
    "    \n",
    "    locs=nyc_boroughs.keys()\n",
    "    for loc in locs:\n",
    "        if lat>=nyc_boroughs[loc]['min_lat'] and lat<=nyc_boroughs[loc]['max_lat'] and lng>=nyc_boroughs[loc]['min_lng'] and lng<=nyc_boroughs[loc]['max_lng']:\n",
    "            return loc\n",
    "    return 'others'"
   ]
  },
  {
   "cell_type": "code",
   "execution_count": 10,
   "metadata": {},
   "outputs": [],
   "source": [
    "lower_manhattan_boundary={'min_lng': -74.0194,\n",
    "                          'min_lat':40.6997,\n",
    "                          'max_lng':-73.9716,\n",
    "                          'max_lat':40.7427}\n",
    "\n",
    "def isLowerManhattan(lat,lng):\n",
    "    if lat>=lower_manhattan_boundary['min_lat'] and lat<=lower_manhattan_boundary['max_lat'] and lng>=lower_manhattan_boundary['min_lng'] and lng<=lower_manhattan_boundary['max_lng']:\n",
    "        return 1\n",
    "    else:\n",
    "        return 0"
   ]
  },
  {
   "cell_type": "code",
   "execution_count": 11,
   "metadata": {},
   "outputs": [],
   "source": [
    "def encodeDays(day_of_week):\n",
    "    day_dict={'Sunday':0,'Monday':1,'Tuesday':2,'Wednesday':3,'Thursday':4,'Friday':5,'Saturday':6}\n",
    "    return day_dict[day_of_week]"
   ]
  },
  {
   "cell_type": "code",
   "execution_count": 12,
   "metadata": {},
   "outputs": [
    {
     "name": "stdout",
     "output_type": "stream",
     "text": [
      "Shape of  df data (1698334, 28)\n"
     ]
    }
   ],
   "source": [
    "df['pickup_datetime']=pd.to_datetime(df['pickup_datetime'],format='%Y-%m-%d %H:%M:%S UTC')\n",
    "df['pickup_date']=  df['pickup_datetime'].dt.date\n",
    "df['pickup_day']= df['pickup_datetime'].apply(lambda x:x.day)\n",
    "df['pickup_hour']= df['pickup_datetime'].apply(lambda x:x.hour)\n",
    "df['pickup_day_of_week']= df['pickup_datetime'].apply(lambda x:calendar.day_name[x.weekday()])\n",
    "df['pickup_month']= df['pickup_datetime'].apply(lambda x:x.month)\n",
    "df['pickup_year']= df['pickup_datetime'].apply(lambda x:x.year)\n",
    "df['is_pickup_JFK']= df.apply(lambda row:isAirport(row['pickup_latitude_n'],row['pickup_longitude_n'],'JFK'),axis=1)\n",
    "df['is_dropoff_JFK']= df.apply(lambda row:isAirport(row['dropoff_latitude_n'],row['dropoff_longitude_n'],'JFK'),axis=1)\n",
    "df['is_pickup_EWR']= df.apply(lambda row:isAirport(row['pickup_latitude_n'],row['pickup_longitude_n'],'EWR'),axis=1)\n",
    "df['is_dropoff_EWR']= df.apply(lambda row:isAirport(row['dropoff_latitude_n'],row['dropoff_longitude_n'],'EWR'),axis=1)\n",
    "df['is_pickup_la_guardia']= df.apply(lambda row:isAirport(row['pickup_latitude_n'],row['pickup_longitude_n'],'LaGuardia'),axis=1)\n",
    "df['is_dropoff_la_guardia']= df.apply(lambda row:isAirport(row['dropoff_latitude_n'],row['dropoff_longitude_n'],'LaGuardia'),axis=1)\n",
    "df['pickup_latitude_round3']= df['pickup_latitude_n'].apply(lambda x:round(x,3))\n",
    "df['pickup_longitude_round3']= df['pickup_longitude_n'].apply(lambda x:round(x,3))\n",
    "df['dropoff_latitude_round3']= df['dropoff_latitude_n'].apply(lambda x:round(x,3))\n",
    "df['dropoff_longitude_round3']= df['dropoff_longitude_n'].apply(lambda x:round(x,3))\n",
    "df['pickup_borough']= df.apply(lambda row:getBorough(row['pickup_latitude_n'],row['pickup_longitude_n']),axis=1)\n",
    "df['dropoff_borough']= df.apply(lambda row:getBorough(row['dropoff_latitude_n'],row['dropoff_longitude_n']),axis=1)\n",
    "df['is_pickup_lower_manhattan']= df.apply(lambda row:isLowerManhattan(row['pickup_latitude_n'],row['pickup_longitude_n']),axis=1)\n",
    "df['is_dropoff_lower_manhattan']= df.apply(lambda row:isLowerManhattan(row['dropoff_latitude_n'],row['dropoff_longitude_n']),axis=1)\n",
    "df['pickup_day_of_week']= df['pickup_day_of_week'].apply(lambda x:encodeDays(x))\n",
    "print(\"Shape of  df data\",  df.shape)"
   ]
  },
  {
   "cell_type": "code",
   "execution_count": 13,
   "metadata": {},
   "outputs": [],
   "source": []
  },
  {
   "cell_type": "code",
   "execution_count": null,
   "metadata": {},
   "outputs": [],
   "source": []
  },
  {
   "cell_type": "code",
   "execution_count": null,
   "metadata": {},
   "outputs": [],
   "source": [
    "df.to_csv('nyc_data_clean_and_features.csv',index=False)"
   ]
  }
 ],
 "metadata": {
  "kernelspec": {
   "display_name": "Python 3",
   "language": "python",
   "name": "python3"
  },
  "language_info": {
   "codemirror_mode": {
    "name": "ipython",
    "version": 3
   },
   "file_extension": ".py",
   "mimetype": "text/x-python",
   "name": "python",
   "nbconvert_exporter": "python",
   "pygments_lexer": "ipython3",
   "version": "3.6.5"
  }
 },
 "nbformat": 4,
 "nbformat_minor": 2
}
