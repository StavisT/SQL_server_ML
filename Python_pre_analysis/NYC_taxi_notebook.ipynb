{
 "cells": [
  {
   "cell_type": "code",
   "execution_count": 1,
   "metadata": {},
   "outputs": [],
   "source": [
    "import pyodbc\n",
    "import pickle\n",
    "import os\n",
    "import matplotlib\n",
    "import matplotlib.pyplot as plt\n",
    "import pandas as pd\n",
    "\n",
    "servername = 'LNOR010941'\n",
    "db = 'NYCTaxi_Sample'\n",
    "# sql query\n",
    "query_str = '''\n",
    "SELECT cast(tipped as int) as tipped,\n",
    "tip_amount, \n",
    "fare_amount \n",
    "FROM [dbo].[nyctaxi_sample]'''\n",
    "\n",
    "query_location = '''\n",
    "SELECT cast(tipped as int) as tipped,\n",
    "tip_amount, \n",
    "fare_amount \n",
    "FROM [dbo].[nyctaxi_sample]'''\n"
   ]
  },
  {
   "cell_type": "code",
   "execution_count": 2,
   "metadata": {},
   "outputs": [],
   "source": [
    "#Establish connection to sql server\n",
    "#connection API: 'DRIVER={SQL Server};SERVER={SERVER_NAME};DATABASE={DB_NAME};UID={USER_NAME};PWD={PASSWORD}'\n",
    "conn_str = 'Driver=SQL Server;Server=' + servername + \\\n",
    "    ';Database=' + db + ';Trusted_Connection=True;'\n",
    "cnxn = pyodbc.connect(conn_str)\n",
    "#cursor = cnxn.cursor()\n",
    "\n",
    "# Load query into dataframe\n",
    "df=pd.read_sql(query_str,cnxn)\n",
    "\n",
    "\n"
   ]
  },
  {
   "cell_type": "code",
   "execution_count": 3,
   "metadata": {},
   "outputs": [
    {
     "data": {
      "image/png": "[encoded data removed]",
      "text/plain": [
       "<Figure size 432x288 with 1 Axes>"
      ]
     },
     "metadata": {},
     "output_type": "display_data"
    }
   ],
   "source": [
    "#Plot the data using matplotlib\n",
    "plt.scatter(df['fare_amount'],df['tip_amount'])\n",
    "plt.xlabel(\"Fare Amount ($)\")\n",
    "plt.ylabel(\"Tip Amount ($)\")\n",
    "plt.title(\"Tip amount by Fare amount\")\n",
    "plt.show()\n",
    "\n",
    "# close conenction to sql server\n",
    "cnxn.close()"
   ]
  },
  {
   "cell_type": "code",
   "execution_count": null,
   "metadata": {},
   "outputs": [],
   "source": [
    "# sql query\n",
    "query_str='''\n",
    "select passenger_count \n",
    "      ,pickup_datetime  \n",
    "      ,pickup_longitude\n",
    "      ,pickup_latitude\n",
    "      ,dropoff_longitude\n",
    "      ,dropoff_latitude\n",
    "      ,fare_amount \n",
    "      from [dbo].[nyctaxi_sample]\n",
    "'''\n",
    "servername = 'LNOR010941'\n",
    "db = 'NYCTaxi_Sample'\n",
    "conn_str = 'Driver=SQL Server;Server=' + servername + \\\n",
    "    ';Database=' + db + ';Trusted_Connection=True;'\n",
    "cnxn = pyodbc.connect(conn_str)\n",
    "#cursor = cnxn.cursor()\n",
    "\n",
    "# Load query into dataframe\n",
    "df=pd.read_sql(query_str,cnxn)"
   ]
  },
  {
   "cell_type": "code",
   "execution_count": null,
   "metadata": {},
   "outputs": [],
   "source": [
    "df=df.loc[df['fare_amount']>=0]\n",
    "df['dropoff_latitude_n']=pd.to_numeric(df['dropoff_latitude'])\n",
    "df['dropoff_longitude_n']=pd.to_numeric(df['dropoff_longitude'])\n",
    "df['pickup_latitude_n']=pd.to_numeric(df['pickup_latitude'])\n",
    "df['pickup_longitude_n']=pd.to_numeric(df['pickup_longitude'])\n",
    "df=df.drop(columns=['dropoff_latitude','dropoff_longitude','pickup_latitude','pickup_longitude'])"
   ]
  },
  {
   "cell_type": "code",
   "execution_count": null,
   "metadata": {},
   "outputs": [],
   "source": [
    "boundary={'min_lng':-74.263242,\n",
    "              'min_lat':40.573143,\n",
    "              'max_lng':-72.986532, \n",
    "              'max_lat':41.709555}\n",
    "\n",
    "#We will mark the outlier locations as 1 and remove them for further analysi\n",
    "df.loc[~((df.pickup_longitude_n >= boundary['min_lng'] ) & (df.pickup_longitude_n <= boundary['max_lng']) &\n",
    "            (df.pickup_latitude_n >= boundary['min_lat']) & (df.pickup_latitude_n <= boundary['max_lat']) &\n",
    "            (df.dropoff_longitude_n >= boundary['min_lng']) & (df.dropoff_longitude_n <= boundary['max_lng']) &\n",
    "            (df.dropoff_latitude_n >=boundary['min_lat']) & (df.dropoff_latitude_n <= boundary['max_lat'])),'is_outlier_loc']=1\n",
    "df.loc[((df.pickup_longitude_n >= boundary['min_lng'] ) & (df.pickup_longitude_n <= boundary['max_lng']) &\n",
    "            (df.pickup_latitude_n >= boundary['min_lat']) & (df.pickup_latitude_n <= boundary['max_lat']) &\n",
    "            (df.dropoff_longitude_n >= boundary['min_lng']) & (df.dropoff_longitude_n <= boundary['max_lng']) &\n",
    "            (df.dropoff_latitude_n >=boundary['min_lat']) & (df.dropoff_latitude_n <= boundary['max_lat'])),'is_outlier_loc']=0\n",
    "\n",
    "print(\"Outlier vs Non Outlier Counts\")\n",
    "print(df['is_outlier_loc'].value_counts())\n",
    "\n",
    "# Let us drop rows, where location is outlier\n",
    "df=df.loc[df['is_outlier_loc']==0]\n",
    "df.drop(['is_outlier_loc'],axis=1,inplace=True)"
   ]
  },
  {
   "cell_type": "code",
   "execution_count": null,
   "metadata": {},
   "outputs": [],
   "source": [
    "df['pickup_datetime']=pd.to_datetime(df['pickup_datetime'],format='%Y-%m-%d %H:%M:%S UTC')\n",
    "df['pickup_date']=  df['pickup_datetime'].dt.date\n",
    "df['pickup_day']= df['pickup_datetime'].apply(lambda x:x.day)\n",
    "df['pickup_hour']= df['pickup_datetime'].apply(lambda x:x.hour)\n",
    "df['pickup_day_of_week']= df['pickup_datetime'].apply(lambda x:calendar.day_name[x.weekday()])\n",
    "df['pickup_month']= df['pickup_datetime'].apply(lambda x:x.month)\n",
    "df['pickup_year']= df['pickup_datetime'].apply(lambda x:x.year)\n",
    "df['is_pickup_JFK']= df.apply(lambda row:isAirport(row['pickup_latitude'],row['pickup_longitude'],'JFK'),axis=1)\n",
    "df['is_dropoff_JFK']= df.apply(lambda row:isAirport(row['dropoff_latitude'],row['dropoff_longitude'],'JFK'),axis=1)\n",
    "df['is_pickup_EWR']= df.apply(lambda row:isAirport(row['pickup_latitude'],row['pickup_longitude'],'EWR'),axis=1)\n",
    "df['is_dropoff_EWR']= df.apply(lambda row:isAirport(row['dropoff_latitude'],row['dropoff_longitude'],'EWR'),axis=1)\n",
    "df['is_pickup_la_guardia']= df.apply(lambda row:isAirport(row['pickup_latitude'],row['pickup_longitude'],'LaGuardia'),axis=1)\n",
    "df['is_dropoff_la_guardia']= df.apply(lambda row:isAirport(row['dropoff_latitude'],row['dropoff_longitude'],'LaGuardia'),axis=1)\n",
    "df['pickup_latitude_round3']= df['pickup_latitude'].apply(lambda x:round(x,3))\n",
    "df['pickup_longitude_round3']= df['pickup_longitude'].apply(lambda x:round(x,3))\n",
    "df['dropoff_latitude_round3']= df['dropoff_latitude'].apply(lambda x:round(x,3))\n",
    "df['dropoff_longitude_round3']= df['dropoff_longitude'].apply(lambda x:round(x,3))\n",
    "df['trip_distance']= df.apply(lambda row:distance(row['pickup_latitude'],row['dropoff_latitude'],row['pickup_longitude'],row['dropoff_longitude']),axis=1)\n",
    "df['pickup_borough']= df.apply(lambda row:getBorough(row['pickup_latitude'],row['pickup_longitude']),axis=1)\n",
    "df['dropoff_borough']= df.apply(lambda row:getBorough(row['dropoff_latitude'],row['dropoff_longitude']),axis=1)\n",
    "df['is_pickup_lower_manhattan']= df.apply(lambda row:isLowerManhattan(row['pickup_latitude'],row['pickup_longitude']),axis=1)\n",
    "df['is_dropoff_lower_manhattan']= df.apply(lambda row:isLowerManhattan(row['dropoff_latitude'],row['dropoff_longitude']),axis=1)\n",
    "df['pickup_day_of_week']= df['pickup_day_of_week'].apply(lambda x:encodeDays(x))\n",
    "print(\"Shape of  df data\",  df.shape)\n"
   ]
  },
  {
   "cell_type": "code",
   "execution_count": null,
   "metadata": {},
   "outputs": [],
   "source": [
    "df.to_csv('nyc_data_clean_and_features.csv',index=False)"
   ]
  }
 ],
 "metadata": {
  "kernelspec": {
   "display_name": "Python 3",
   "language": "python",
   "name": "python3"
  },
  "language_info": {
   "codemirror_mode": {
    "name": "ipython",
    "version": 3
   },
   "file_extension": ".py",
   "mimetype": "text/x-python",
   "name": "python",
   "nbconvert_exporter": "python",
   "pygments_lexer": "ipython3",
   "version": "3.6.5"
  }
 },
 "nbformat": 4,
 "nbformat_minor": 2
}
